{
 "cells": [
  {
   "cell_type": "code",
   "execution_count": null,
   "id": "64dd1ee6",
   "metadata": {},
   "outputs": [],
   "source": [
    "import cv2\n",
    "face_cascade=cv2.CascadeClassifier(\"D:\\\\haarcascade_frontalface_default.xml\")\n",
    "capture=cv2.VideoCapture(0)# for enabling the webcam \n",
    "\n",
    "while True:\n",
    "    ret,frame=capture.read()\n",
    "    gray=cv2.cvtColor(frame,cv2.COLOR_BGR2GRAY)#converting to gray scale\n",
    "    faces = face_cascade.detectMultiScale(gray,scaleFactor=1.1,minNeighbors=5)# to detect the face\n",
    "    for x,y,w,h in faces:\n",
    "        frame=cv2.rectangle(frame,(x,y),(x+w,y+h),(0,255,0),3)\n",
    "    cv2.imshow('Color',frame)\n",
    "    if cv2.waitKey(1) & 0xFF == ord('q'):\n",
    "        break\n",
    "capture.release()\n",
    "cv2.destroyAllWindows()"
   ]
  },
  {
   "cell_type": "code",
   "execution_count": null,
   "id": "f2482b09",
   "metadata": {},
   "outputs": [],
   "source": [
    "# open cv haar cascade classifier to build a face detection"
   ]
  },
  {
   "cell_type": "code",
   "execution_count": null,
   "id": "fb98b345",
   "metadata": {},
   "outputs": [],
   "source": []
  }
 ],
 "metadata": {
  "kernelspec": {
   "display_name": "Python 3 (ipykernel)",
   "language": "python",
   "name": "python3"
  },
  "language_info": {
   "codemirror_mode": {
    "name": "ipython",
    "version": 3
   },
   "file_extension": ".py",
   "mimetype": "text/x-python",
   "name": "python",
   "nbconvert_exporter": "python",
   "pygments_lexer": "ipython3",
   "version": "3.8.8"
  }
 },
 "nbformat": 4,
 "nbformat_minor": 5
}
